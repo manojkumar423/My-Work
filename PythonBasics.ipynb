{
  "nbformat": 4,
  "nbformat_minor": 0,
  "metadata": {
    "colab": {
      "name": "PythonBasics.ipynb",
      "version": "0.3.2",
      "provenance": [],
      "collapsed_sections": [],
      "include_colab_link": true
    },
    "kernelspec": {
      "name": "python3",
      "display_name": "Python 3"
    }
  },
  "cells": [
    {
      "cell_type": "markdown",
      "metadata": {
        "id": "view-in-github",
        "colab_type": "text"
      },
      "source": [
        "<a href=\"https://colab.research.google.com/github/manojkumar423/My-Work/blob/master/PythonBasics.ipynb\" target=\"_parent\"><img src=\"https://colab.research.google.com/assets/colab-badge.svg\" alt=\"Open In Colab\"/></a>"
      ]
    },
    {
      "cell_type": "code",
      "metadata": {
        "id": "nD18QjG6ltSS",
        "colab_type": "code",
        "outputId": "b91fb4a9-2e12-4ea6-c596-b37b01d331e1",
        "colab": {
          "base_uri": "https://localhost:8080/",
          "height": 153
        }
      },
      "source": [
        "# Lists in Python\n",
        "# Syntax: variable_name = [element 1,element2]\n",
        "ValentineWeek = ['Rose Day','Propose day','Chocolate day','Teddy day','Promise day','Hug day','Kiss day','Valentine day']\n",
        "ValentineWeek"
      ],
      "execution_count": 0,
      "outputs": [
        {
          "output_type": "execute_result",
          "data": {
            "text/plain": [
              "['Rose Day',\n",
              " 'Propose day',\n",
              " 'Chocolate day',\n",
              " 'Teddy day',\n",
              " 'Promise day',\n",
              " 'Hug day',\n",
              " 'Kiss day',\n",
              " 'Valentine day']"
            ]
          },
          "metadata": {
            "tags": []
          },
          "execution_count": 1
        }
      ]
    },
    {
      "cell_type": "code",
      "metadata": {
        "id": "LM3byaGlrlZa",
        "colab_type": "code",
        "outputId": "5f4b8a98-80f0-4c43-a2ca-1f35fb777c95",
        "colab": {
          "base_uri": "https://localhost:8080/",
          "height": 34
        }
      },
      "source": [
        "#check data type of valentine week \n",
        "type(ValentineWeek)"
      ],
      "execution_count": 0,
      "outputs": [
        {
          "output_type": "execute_result",
          "data": {
            "text/plain": [
              "list"
            ]
          },
          "metadata": {
            "tags": []
          },
          "execution_count": 2
        }
      ]
    },
    {
      "cell_type": "code",
      "metadata": {
        "id": "9RlAUo7dsAEW",
        "colab_type": "code",
        "outputId": "c6376599-3b75-43ad-b502-72558c324384",
        "colab": {
          "base_uri": "https://localhost:8080/",
          "height": 34
        }
      },
      "source": [
        "#size of the list\n",
        "#size of th memory is resposnible for size of lists\n",
        "import sys\n",
        "print(\"Max size of machine is \",sys.maxsize)"
      ],
      "execution_count": 0,
      "outputs": [
        {
          "output_type": "stream",
          "text": [
            "Max size of machine is  9223372036854775807\n"
          ],
          "name": "stdout"
        }
      ]
    },
    {
      "cell_type": "code",
      "metadata": {
        "id": "83oahQg2sR00",
        "colab_type": "code",
        "outputId": "5e21b676-f982-48ac-929d-a7f1972c97b1",
        "colab": {
          "base_uri": "https://localhost:8080/",
          "height": 34
        }
      },
      "source": [
        "# Create a list of attributes of Mr Suneel Kumar\n",
        "suneel = ['Suneel Kumar','IIMT','9876545778', 23, 5.6]\n",
        "suneel"
      ],
      "execution_count": 0,
      "outputs": [
        {
          "output_type": "execute_result",
          "data": {
            "text/plain": [
              "['Suneel Kumar', 'IIMT', '9876545778', 23, 5.6]"
            ]
          },
          "metadata": {
            "tags": []
          },
          "execution_count": 4
        }
      ]
    },
    {
      "cell_type": "code",
      "metadata": {
        "id": "hpbKPJXutcd_",
        "colab_type": "code",
        "colab": {}
      },
      "source": [
        "# create an Empty List in python \n",
        "empty_list = []\n"
      ],
      "execution_count": 0,
      "outputs": []
    },
    {
      "cell_type": "code",
      "metadata": {
        "id": "isQLidLuuTcE",
        "colab_type": "code",
        "outputId": "afc39fdd-2f1e-4b94-eba7-82ffc22846b2",
        "colab": {
          "base_uri": "https://localhost:8080/",
          "height": 34
        }
      },
      "source": [
        "#index of the elment in the list\n",
        "ValentineWeek[4]"
      ],
      "execution_count": 0,
      "outputs": [
        {
          "output_type": "execute_result",
          "data": {
            "text/plain": [
              "'Promise day'"
            ]
          },
          "metadata": {
            "tags": []
          },
          "execution_count": 6
        }
      ]
    },
    {
      "cell_type": "code",
      "metadata": {
        "id": "e5M4cqJLwkAP",
        "colab_type": "code",
        "outputId": "34b81701-e615-4de8-c35f-db4205ba43aa",
        "colab": {
          "base_uri": "https://localhost:8080/",
          "height": 34
        }
      },
      "source": [
        "# list in python\n",
        "mylist = [1,2,4,5,3.5,6.5,20.6,True,False]\n",
        "print(mylist)"
      ],
      "execution_count": 0,
      "outputs": [
        {
          "output_type": "stream",
          "text": [
            "[1, 2, 4, 5, 3.5, 6.5, 20.6, True, False]\n"
          ],
          "name": "stdout"
        }
      ]
    },
    {
      "cell_type": "code",
      "metadata": {
        "id": "hsN4L7Spj4K1",
        "colab_type": "code",
        "outputId": "39b2ad6a-1e51-41ba-da1b-c2798ca9a33d",
        "colab": {
          "base_uri": "https://localhost:8080/",
          "height": 34
        }
      },
      "source": [
        "type(mylist)"
      ],
      "execution_count": 0,
      "outputs": [
        {
          "output_type": "execute_result",
          "data": {
            "text/plain": [
              "list"
            ]
          },
          "metadata": {
            "tags": []
          },
          "execution_count": 8
        }
      ]
    },
    {
      "cell_type": "code",
      "metadata": {
        "id": "i9dzK3WSlhJd",
        "colab_type": "code",
        "outputId": "17bc88de-1021-4bdc-988a-9cf5e57494a2",
        "colab": {
          "base_uri": "https://localhost:8080/",
          "height": 51
        }
      },
      "source": [
        "print(mylist[6])\n",
        "\n",
        "#slicing--> Starting from index 0 till index 6\n",
        "\n",
        "print(mylist[0:6])"
      ],
      "execution_count": 0,
      "outputs": [
        {
          "output_type": "stream",
          "text": [
            "20.6\n",
            "[1, 2, 4, 5, 3.5, 6.5]\n"
          ],
          "name": "stdout"
        }
      ]
    },
    {
      "cell_type": "code",
      "metadata": {
        "id": "9yxK78bxn3J1",
        "colab_type": "code",
        "outputId": "bfe8ee9c-372c-4d7c-f928-74ec3129f018",
        "colab": {
          "base_uri": "https://localhost:8080/",
          "height": 34
        }
      },
      "source": [
        "print (mylist[-5:-1])"
      ],
      "execution_count": 0,
      "outputs": [
        {
          "output_type": "stream",
          "text": [
            "[3.5, 6.5, 20.6, True]\n"
          ],
          "name": "stdout"
        }
      ]
    },
    {
      "cell_type": "code",
      "metadata": {
        "id": "zl_UgWQLpf9m",
        "colab_type": "code",
        "outputId": "b5ac5771-694d-4947-f893-a536b9502509",
        "colab": {
          "base_uri": "https://localhost:8080/",
          "height": 51
        }
      },
      "source": [
        "# Mutable \n",
        "oldList = [10,20,30,40,50]\n",
        "print(oldList)\n",
        "\n",
        "oldList[1] = 200\n",
        "print(oldList)"
      ],
      "execution_count": 0,
      "outputs": [
        {
          "output_type": "stream",
          "text": [
            "[10, 20, 30, 40, 50]\n",
            "[10, 200, 30, 40, 50]\n"
          ],
          "name": "stdout"
        }
      ]
    },
    {
      "cell_type": "code",
      "metadata": {
        "id": "XvF_xs0Qp_fc",
        "colab_type": "code",
        "outputId": "99664039-dc78-4baf-c052-473584d1a640",
        "colab": {
          "base_uri": "https://localhost:8080/",
          "height": 85
        }
      },
      "source": [
        "# lIST METHODS \n",
        "\n",
        "myList = [10,20,30,40,50]\n",
        "\n",
        "#append--> add an item at the end of your list\n",
        "\n",
        "myList.append(60)\n",
        "print (myList)\n",
        "\n",
        "#insert --> add an item at specific position\n",
        "#insert(index , value)\n",
        "\n",
        "myList.insert(1,200)\n",
        "print(myList)\n",
        "myList[2]\n",
        "\n",
        "#extend --> extend the list by appending th items at last\n",
        "\n",
        "myList.extend([70,80,90])\n",
        "print(myList)\n",
        "\n",
        "#remove --> remove the first item of list whose values is equal to x \n",
        "#remove(x)\n",
        "myList.remove(30)\n",
        "print(myList)"
      ],
      "execution_count": 0,
      "outputs": [
        {
          "output_type": "stream",
          "text": [
            "[10, 20, 30, 40, 50, 60]\n",
            "[10, 200, 20, 30, 40, 50, 60]\n",
            "[10, 200, 20, 30, 40, 50, 60, 70, 80, 90]\n",
            "[10, 200, 20, 40, 50, 60, 70, 80, 90]\n"
          ],
          "name": "stdout"
        }
      ]
    },
    {
      "cell_type": "code",
      "metadata": {
        "id": "E55Rft59t768",
        "colab_type": "code",
        "outputId": "36dc64c2-aff4-4b5b-d767-8de5953a9922",
        "colab": {
          "base_uri": "https://localhost:8080/",
          "height": 51
        }
      },
      "source": [
        "x= [1,2,3]\n",
        "x.append([4,5])\n",
        "print(x)\n",
        "len(x)\n"
      ],
      "execution_count": 0,
      "outputs": [
        {
          "output_type": "stream",
          "text": [
            "[1, 2, 3, [4, 5]]\n"
          ],
          "name": "stdout"
        },
        {
          "output_type": "execute_result",
          "data": {
            "text/plain": [
              "4"
            ]
          },
          "metadata": {
            "tags": []
          },
          "execution_count": 13
        }
      ]
    },
    {
      "cell_type": "code",
      "metadata": {
        "id": "RVFlkaBuul_b",
        "colab_type": "code",
        "outputId": "b4bdedfb-83e8-4d7f-b13b-0dfdd13ecff0",
        "colab": {
          "base_uri": "https://localhost:8080/",
          "height": 51
        }
      },
      "source": [
        "x=[1,2,3]\n",
        "x.extend([4,5])\n",
        "print(x)\n",
        "len(x)"
      ],
      "execution_count": 0,
      "outputs": [
        {
          "output_type": "stream",
          "text": [
            "[1, 2, 3, 4, 5]\n"
          ],
          "name": "stdout"
        },
        {
          "output_type": "execute_result",
          "data": {
            "text/plain": [
              "5"
            ]
          },
          "metadata": {
            "tags": []
          },
          "execution_count": 14
        }
      ]
    },
    {
      "cell_type": "code",
      "metadata": {
        "id": "qc0ZB6Ftuq0p",
        "colab_type": "code",
        "outputId": "d34d6189-b8d5-4df4-a558-ce5847faca4d",
        "colab": {
          "base_uri": "https://localhost:8080/",
          "height": 51
        }
      },
      "source": [
        "#pop-->Remove the item from list based in given position\n",
        "#if no argument is specified , then last element will be deleted\n",
        "myList.pop(3)\n",
        "print(myList)\n",
        "\n",
        "myList.pop()\n"
      ],
      "execution_count": 0,
      "outputs": [
        {
          "output_type": "stream",
          "text": [
            "[10, 200, 20, 50, 60, 70, 80, 90]\n"
          ],
          "name": "stdout"
        },
        {
          "output_type": "execute_result",
          "data": {
            "text/plain": [
              "90"
            ]
          },
          "metadata": {
            "tags": []
          },
          "execution_count": 15
        }
      ]
    },
    {
      "cell_type": "code",
      "metadata": {
        "id": "l3YMaIOBv6we",
        "colab_type": "code",
        "outputId": "d4968be1-ca3b-4273-fbe3-78108732f010",
        "colab": {
          "base_uri": "https://localhost:8080/",
          "height": 51
        }
      },
      "source": [
        "# clear-->remove all items from list\n",
        "print(myList)\n",
        "\n",
        "myList.clear()\n",
        "print(myList)"
      ],
      "execution_count": 0,
      "outputs": [
        {
          "output_type": "stream",
          "text": [
            "[10, 200, 20, 50, 60, 70, 80]\n",
            "[]\n"
          ],
          "name": "stdout"
        }
      ]
    },
    {
      "cell_type": "code",
      "metadata": {
        "id": "E-5TfMCuv90y",
        "colab_type": "code",
        "outputId": "30f9e59c-5200-4f56-8147-7185918e060c",
        "colab": {
          "base_uri": "https://localhost:8080/",
          "height": 68
        }
      },
      "source": [
        "x = [10,20,30,40,50,10,20,10,10]\n",
        "print(x)\n",
        "\n",
        "len(x)\n",
        "#count--> return the number of x appear in List \n",
        "print(x.count(10))\n",
        "#reverse -->reverse the element of your list\n",
        "x.reverse()\n",
        "print(x)"
      ],
      "execution_count": 0,
      "outputs": [
        {
          "output_type": "stream",
          "text": [
            "[10, 20, 30, 40, 50, 10, 20, 10, 10]\n",
            "4\n",
            "[10, 10, 20, 10, 50, 40, 30, 20, 10]\n"
          ],
          "name": "stdout"
        }
      ]
    },
    {
      "cell_type": "code",
      "metadata": {
        "id": "km3WTPj2xNwb",
        "colab_type": "code",
        "outputId": "cfcd6890-7292-4857-c3f8-6cb943507b74",
        "colab": {
          "base_uri": "https://localhost:8080/",
          "height": 34
        }
      },
      "source": [
        "# Fetching Unique Elements From List\n",
        "\n",
        "fruits = ['apple', 'apple', 'mango', 'guava', 'apple', 'guava', 'banana']\n",
        " \n",
        "print (list(set(fruits)))"
      ],
      "execution_count": 0,
      "outputs": [
        {
          "output_type": "stream",
          "text": [
            "['mango', 'apple', 'guava', 'banana']\n"
          ],
          "name": "stdout"
        }
      ]
    },
    {
      "cell_type": "code",
      "metadata": {
        "id": "l3qp8Ttwy8Ey",
        "colab_type": "code",
        "outputId": "e5e6ed79-3c81-4c5f-8da3-caea853525c9",
        "colab": {
          "base_uri": "https://localhost:8080/",
          "height": 51
        }
      },
      "source": [
        "# use list as stacks\n",
        "# implementation list as a stack\n",
        "# stack--> LIFO{Last in First Out}\n",
        "# Stack --> Insertion/Deletion takes place at the top if the stack\n",
        "\n",
        "stack = [10,20,30,40]\n",
        "stack.append(50)\n",
        "stack.append(60)\n",
        "print(stack)\n",
        "\n",
        "\n",
        "stack.pop()\n",
        "\n",
        "print(stack)"
      ],
      "execution_count": 0,
      "outputs": [
        {
          "output_type": "stream",
          "text": [
            "[10, 20, 30, 40, 50, 60]\n",
            "[10, 20, 30, 40, 50]\n"
          ],
          "name": "stdout"
        }
      ]
    },
    {
      "cell_type": "code",
      "metadata": {
        "id": "e1hB8AnZoRA9",
        "colab_type": "code",
        "outputId": "f85e92b1-cda4-4a1b-d65b-436602c9039c",
        "colab": {
          "base_uri": "https://localhost:8080/",
          "height": 34
        }
      },
      "source": [
        "# implementation of queues in List in python\n",
        "#implment queues in list in python programming\n",
        "\n",
        "from collections import deque\n",
        "#create a queue\n",
        "\n",
        "metro_queue = deque(['ram', 'shyam', 'manish'])\n",
        "#check the queu\n",
        "metro_queue\n",
        "\n",
        "#add a person to the queue\n",
        "metro_queue.append('Salman Khan')\n",
        "metro_queue\n",
        "\n",
        "#deque operation using popleft()\n",
        "metro_queue.popleft()\n",
        "\n",
        "#check the queue now \n",
        "metro_queue"
      ],
      "execution_count": 0,
      "outputs": [
        {
          "output_type": "execute_result",
          "data": {
            "text/plain": [
              "deque(['shyam', 'manish', 'Salman Khan'])"
            ]
          },
          "metadata": {
            "tags": []
          },
          "execution_count": 25
        }
      ]
    },
    {
      "cell_type": "code",
      "metadata": {
        "id": "qWxh1BgGvw1J",
        "colab_type": "code",
        "outputId": "4a5e27ad-69ba-475c-bc53-74459337a4bb",
        "colab": {
          "base_uri": "https://localhost:8080/",
          "height": 34
        }
      },
      "source": [
        "# List comprhensions\n",
        "\n",
        "# create a list of squared elements\n",
        "\n",
        "[x**2 for x in range(10)]\n",
        "\n"
      ],
      "execution_count": 0,
      "outputs": [
        {
          "output_type": "execute_result",
          "data": {
            "text/plain": [
              "[0, 1, 4, 9, 16, 25, 36, 49, 64, 81]"
            ]
          },
          "metadata": {
            "tags": []
          },
          "execution_count": 29
        }
      ]
    },
    {
      "cell_type": "code",
      "metadata": {
        "id": "QM0mlEzJxiJS",
        "colab_type": "code",
        "outputId": "51fb4595-728e-44a9-83d7-d45c52a7588e",
        "colab": {
          "base_uri": "https://localhost:8080/",
          "height": 34
        }
      },
      "source": [
        "#create a subset of elements from two list where\n",
        "# x!=y\n",
        "[(x,y) for x in[1,2,3] for y in [3,4,5] if x!=y]"
      ],
      "execution_count": 0,
      "outputs": [
        {
          "output_type": "execute_result",
          "data": {
            "text/plain": [
              "[(1, 3), (1, 4), (1, 5), (2, 3), (2, 4), (2, 5), (3, 4), (3, 5)]"
            ]
          },
          "metadata": {
            "tags": []
          },
          "execution_count": 31
        }
      ]
    },
    {
      "cell_type": "code",
      "metadata": {
        "id": "S6Z8hqZ5yWM1",
        "colab_type": "code",
        "outputId": "539ba726-271d-4ca8-bb4d-d3cfa09ad2a8",
        "colab": {
          "base_uri": "https://localhost:8080/",
          "height": 34
        }
      },
      "source": [
        "# nested List comprehension\n",
        "custom_list = [x*10 for x in [2,3,4]]\n",
        "custom_list\n",
        "\n",
        "del custom_list[1]\n",
        "               \n",
        "custom_list"
      ],
      "execution_count": 0,
      "outputs": [
        {
          "output_type": "execute_result",
          "data": {
            "text/plain": [
              "[20, 40]"
            ]
          },
          "metadata": {
            "tags": []
          },
          "execution_count": 33
        }
      ]
    },
    {
      "cell_type": "code",
      "metadata": {
        "id": "VxDUnXwKzYMS",
        "colab_type": "code",
        "outputId": "fcca1751-b0f5-4e67-fde8-eaa969a31b16",
        "colab": {
          "base_uri": "https://localhost:8080/",
          "height": 34
        }
      },
      "source": [
        "# Tuples and sequences\n",
        "myTuple = \"Devnashu Shukla\", 5.8, 28\n",
        "myTuple\n"
      ],
      "execution_count": 0,
      "outputs": [
        {
          "output_type": "execute_result",
          "data": {
            "text/plain": [
              "('Devnashu Shukla', 5.8, 28)"
            ]
          },
          "metadata": {
            "tags": []
          },
          "execution_count": 35
        }
      ]
    },
    {
      "cell_type": "code",
      "metadata": {
        "id": "p-7TH-dT0jDS",
        "colab_type": "code",
        "outputId": "928129dd-8fc9-4c01-a5dd-5ee47d48b0df",
        "colab": {
          "base_uri": "https://localhost:8080/",
          "height": 163
        }
      },
      "source": [
        "# Tuple is immutable\n",
        "myTuple[0]= \"Salman Khan\""
      ],
      "execution_count": 0,
      "outputs": [
        {
          "output_type": "error",
          "ename": "TypeError",
          "evalue": "ignored",
          "traceback": [
            "\u001b[0;31m---------------------------------------------------------------------------\u001b[0m",
            "\u001b[0;31mTypeError\u001b[0m                                 Traceback (most recent call last)",
            "\u001b[0;32m<ipython-input-37-031d67216661>\u001b[0m in \u001b[0;36m<module>\u001b[0;34m()\u001b[0m\n\u001b[0;32m----> 1\u001b[0;31m \u001b[0mmyTuple\u001b[0m\u001b[0;34m[\u001b[0m\u001b[0;36m0\u001b[0m\u001b[0;34m]\u001b[0m\u001b[0;34m=\u001b[0m \u001b[0;34m\"Salman Khan\"\u001b[0m\u001b[0;34m\u001b[0m\u001b[0;34m\u001b[0m\u001b[0m\n\u001b[0m",
            "\u001b[0;31mTypeError\u001b[0m: 'tuple' object does not support item assignment"
          ]
        }
      ]
    },
    {
      "cell_type": "code",
      "metadata": {
        "id": "ekywfhzP0246",
        "colab_type": "code",
        "outputId": "e90eaf16-0ea2-476a-892e-65356ce4d749",
        "colab": {
          "base_uri": "https://localhost:8080/",
          "height": 68
        }
      },
      "source": [
        "# Tuple packing\n",
        "mytuple1 = \"microsoft\", \"simmba\", 100\n",
        "mytuple1\n",
        "\n",
        "# Reverse Unpacking\n",
        "a, b, c = mytuple1\n",
        "\n",
        "#contents of a,b,c\n",
        "print(a)\n",
        "print(b)\n",
        "print(c)"
      ],
      "execution_count": 0,
      "outputs": [
        {
          "output_type": "stream",
          "text": [
            "microsoft\n",
            "simmba\n",
            "100\n"
          ],
          "name": "stdout"
        }
      ]
    },
    {
      "cell_type": "code",
      "metadata": {
        "id": "3rAQEBOu18kf",
        "colab_type": "code",
        "outputId": "2af0869d-2585-42be-9b1d-485939cd3592",
        "colab": {
          "base_uri": "https://localhost:8080/",
          "height": 34
        }
      },
      "source": [
        "# Create a set of actors\n",
        "actors = {\"Salman\", \"Shahrukh\", \"amir\", \"Salman\"}\n",
        "actors"
      ],
      "execution_count": 0,
      "outputs": [
        {
          "output_type": "execute_result",
          "data": {
            "text/plain": [
              "{'Salman', 'Shahrukh', 'amir'}"
            ]
          },
          "metadata": {
            "tags": []
          },
          "execution_count": 43
        }
      ]
    },
    {
      "cell_type": "code",
      "metadata": {
        "id": "JPcf7AI75SfY",
        "colab_type": "code",
        "outputId": "d79d5102-a512-4f5f-9a3c-9a3a19f8bc9d",
        "colab": {
          "base_uri": "https://localhost:8080/",
          "height": 85
        }
      },
      "source": [
        "# Dictionary\n",
        "dict1 = {'name':\"Manoj\",\n",
        "        'mobile_no ':'9643661693', \n",
        "        'postion':'Student', \n",
        "        'room': 205}\n",
        "dict1\n",
        "\n",
        "dict1['room'] = 201\n",
        "dict1\n",
        "\n",
        "\n"
      ],
      "execution_count": 0,
      "outputs": [
        {
          "output_type": "execute_result",
          "data": {
            "text/plain": [
              "{'mobile_no ': '9643661693',\n",
              " 'name': 'Manoj',\n",
              " 'postion': 'Student',\n",
              " 'room': 201}"
            ]
          },
          "metadata": {
            "tags": []
          },
          "execution_count": 49
        }
      ]
    },
    {
      "cell_type": "code",
      "metadata": {
        "id": "v6bvevj76o_V",
        "colab_type": "code",
        "outputId": "6d123b2f-c691-46c6-9edf-4b9523b1ff0f",
        "colab": {
          "base_uri": "https://localhost:8080/",
          "height": 34
        }
      },
      "source": [
        "del dict1['postion']\n",
        "dict1\n"
      ],
      "execution_count": 0,
      "outputs": [
        {
          "output_type": "execute_result",
          "data": {
            "text/plain": [
              "{'mobile_no ': '9643661693', 'name': 'Manoj', 'room': 201}"
            ]
          },
          "metadata": {
            "tags": []
          },
          "execution_count": 51
        }
      ]
    }
  ]
}